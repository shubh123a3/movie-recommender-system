{
 "cells": [
  {
   "cell_type": "markdown",
   "id": "b9064d6c-2394-45b9-8029-dfd5dc0059e4",
   "metadata": {},
   "source": [
    "# imports "
   ]
  },
  {
   "cell_type": "code",
   "execution_count": 1,
   "id": "a41ee60b-e9b2-49a5-a496-942a9d14807f",
   "metadata": {},
   "outputs": [],
   "source": [
    "import pandas as pd\n",
    "import numpy as np\n",
    "from sklearn.model_selection import train_test_split\n",
    "from sklearn.compose import ColumnTransformer\n",
    "from sklearn.preprocessing import OneHotEncoder\n",
    "from sklearn.preprocessing import OrdinalEncoder\n",
    "from sklearn.pipeline import Pipeline,make_pipeline\n",
    "from sklearn.tree import DecisionTreeClassifier"
   ]
  },
  {
   "cell_type": "code",
   "execution_count": 49,
   "id": "3957b232-78c2-4a5d-b9d4-1e7d88ed73af",
   "metadata": {},
   "outputs": [],
   "source": [
    "movies=pd.read_csv('tmdb_5000_movies.csv')\n",
    "credits=pd.read_csv('tmdb_5000_credits.csv')"
   ]
  },
  {
   "cell_type": "code",
   "execution_count": 50,
   "id": "a752179f-5403-4416-b318-369e40361d03",
   "metadata": {},
   "outputs": [
    {
     "data": {
      "text/html": [
       "<div>\n",
       "<style scoped>\n",
       "    .dataframe tbody tr th:only-of-type {\n",
       "        vertical-align: middle;\n",
       "    }\n",
       "\n",
       "    .dataframe tbody tr th {\n",
       "        vertical-align: top;\n",
       "    }\n",
       "\n",
       "    .dataframe thead th {\n",
       "        text-align: right;\n",
       "    }\n",
       "</style>\n",
       "<table border=\"1\" class=\"dataframe\">\n",
       "  <thead>\n",
       "    <tr style=\"text-align: right;\">\n",
       "      <th></th>\n",
       "      <th>budget</th>\n",
       "      <th>genres</th>\n",
       "      <th>homepage</th>\n",
       "      <th>id</th>\n",
       "      <th>keywords</th>\n",
       "      <th>original_language</th>\n",
       "      <th>original_title</th>\n",
       "      <th>overview</th>\n",
       "      <th>popularity</th>\n",
       "      <th>production_companies</th>\n",
       "      <th>production_countries</th>\n",
       "      <th>release_date</th>\n",
       "      <th>revenue</th>\n",
       "      <th>runtime</th>\n",
       "      <th>spoken_languages</th>\n",
       "      <th>status</th>\n",
       "      <th>tagline</th>\n",
       "      <th>title</th>\n",
       "      <th>vote_average</th>\n",
       "      <th>vote_count</th>\n",
       "    </tr>\n",
       "  </thead>\n",
       "  <tbody>\n",
       "    <tr>\n",
       "      <th>0</th>\n",
       "      <td>237000000</td>\n",
       "      <td>[{\"id\": 28, \"name\": \"Action\"}, {\"id\": 12, \"nam...</td>\n",
       "      <td>http://www.avatarmovie.com/</td>\n",
       "      <td>19995</td>\n",
       "      <td>[{\"id\": 1463, \"name\": \"culture clash\"}, {\"id\":...</td>\n",
       "      <td>en</td>\n",
       "      <td>Avatar</td>\n",
       "      <td>In the 22nd century, a paraplegic Marine is di...</td>\n",
       "      <td>150.437577</td>\n",
       "      <td>[{\"name\": \"Ingenious Film Partners\", \"id\": 289...</td>\n",
       "      <td>[{\"iso_3166_1\": \"US\", \"name\": \"United States o...</td>\n",
       "      <td>2009-12-10</td>\n",
       "      <td>2787965087</td>\n",
       "      <td>162.0</td>\n",
       "      <td>[{\"iso_639_1\": \"en\", \"name\": \"English\"}, {\"iso...</td>\n",
       "      <td>Released</td>\n",
       "      <td>Enter the World of Pandora.</td>\n",
       "      <td>Avatar</td>\n",
       "      <td>7.2</td>\n",
       "      <td>11800</td>\n",
       "    </tr>\n",
       "    <tr>\n",
       "      <th>1</th>\n",
       "      <td>300000000</td>\n",
       "      <td>[{\"id\": 12, \"name\": \"Adventure\"}, {\"id\": 14, \"...</td>\n",
       "      <td>http://disney.go.com/disneypictures/pirates/</td>\n",
       "      <td>285</td>\n",
       "      <td>[{\"id\": 270, \"name\": \"ocean\"}, {\"id\": 726, \"na...</td>\n",
       "      <td>en</td>\n",
       "      <td>Pirates of the Caribbean: At World's End</td>\n",
       "      <td>Captain Barbossa, long believed to be dead, ha...</td>\n",
       "      <td>139.082615</td>\n",
       "      <td>[{\"name\": \"Walt Disney Pictures\", \"id\": 2}, {\"...</td>\n",
       "      <td>[{\"iso_3166_1\": \"US\", \"name\": \"United States o...</td>\n",
       "      <td>2007-05-19</td>\n",
       "      <td>961000000</td>\n",
       "      <td>169.0</td>\n",
       "      <td>[{\"iso_639_1\": \"en\", \"name\": \"English\"}]</td>\n",
       "      <td>Released</td>\n",
       "      <td>At the end of the world, the adventure begins.</td>\n",
       "      <td>Pirates of the Caribbean: At World's End</td>\n",
       "      <td>6.9</td>\n",
       "      <td>4500</td>\n",
       "    </tr>\n",
       "    <tr>\n",
       "      <th>2</th>\n",
       "      <td>245000000</td>\n",
       "      <td>[{\"id\": 28, \"name\": \"Action\"}, {\"id\": 12, \"nam...</td>\n",
       "      <td>http://www.sonypictures.com/movies/spectre/</td>\n",
       "      <td>206647</td>\n",
       "      <td>[{\"id\": 470, \"name\": \"spy\"}, {\"id\": 818, \"name...</td>\n",
       "      <td>en</td>\n",
       "      <td>Spectre</td>\n",
       "      <td>A cryptic message from Bond’s past sends him o...</td>\n",
       "      <td>107.376788</td>\n",
       "      <td>[{\"name\": \"Columbia Pictures\", \"id\": 5}, {\"nam...</td>\n",
       "      <td>[{\"iso_3166_1\": \"GB\", \"name\": \"United Kingdom\"...</td>\n",
       "      <td>2015-10-26</td>\n",
       "      <td>880674609</td>\n",
       "      <td>148.0</td>\n",
       "      <td>[{\"iso_639_1\": \"fr\", \"name\": \"Fran\\u00e7ais\"},...</td>\n",
       "      <td>Released</td>\n",
       "      <td>A Plan No One Escapes</td>\n",
       "      <td>Spectre</td>\n",
       "      <td>6.3</td>\n",
       "      <td>4466</td>\n",
       "    </tr>\n",
       "    <tr>\n",
       "      <th>3</th>\n",
       "      <td>250000000</td>\n",
       "      <td>[{\"id\": 28, \"name\": \"Action\"}, {\"id\": 80, \"nam...</td>\n",
       "      <td>http://www.thedarkknightrises.com/</td>\n",
       "      <td>49026</td>\n",
       "      <td>[{\"id\": 849, \"name\": \"dc comics\"}, {\"id\": 853,...</td>\n",
       "      <td>en</td>\n",
       "      <td>The Dark Knight Rises</td>\n",
       "      <td>Following the death of District Attorney Harve...</td>\n",
       "      <td>112.312950</td>\n",
       "      <td>[{\"name\": \"Legendary Pictures\", \"id\": 923}, {\"...</td>\n",
       "      <td>[{\"iso_3166_1\": \"US\", \"name\": \"United States o...</td>\n",
       "      <td>2012-07-16</td>\n",
       "      <td>1084939099</td>\n",
       "      <td>165.0</td>\n",
       "      <td>[{\"iso_639_1\": \"en\", \"name\": \"English\"}]</td>\n",
       "      <td>Released</td>\n",
       "      <td>The Legend Ends</td>\n",
       "      <td>The Dark Knight Rises</td>\n",
       "      <td>7.6</td>\n",
       "      <td>9106</td>\n",
       "    </tr>\n",
       "    <tr>\n",
       "      <th>4</th>\n",
       "      <td>260000000</td>\n",
       "      <td>[{\"id\": 28, \"name\": \"Action\"}, {\"id\": 12, \"nam...</td>\n",
       "      <td>http://movies.disney.com/john-carter</td>\n",
       "      <td>49529</td>\n",
       "      <td>[{\"id\": 818, \"name\": \"based on novel\"}, {\"id\":...</td>\n",
       "      <td>en</td>\n",
       "      <td>John Carter</td>\n",
       "      <td>John Carter is a war-weary, former military ca...</td>\n",
       "      <td>43.926995</td>\n",
       "      <td>[{\"name\": \"Walt Disney Pictures\", \"id\": 2}]</td>\n",
       "      <td>[{\"iso_3166_1\": \"US\", \"name\": \"United States o...</td>\n",
       "      <td>2012-03-07</td>\n",
       "      <td>284139100</td>\n",
       "      <td>132.0</td>\n",
       "      <td>[{\"iso_639_1\": \"en\", \"name\": \"English\"}]</td>\n",
       "      <td>Released</td>\n",
       "      <td>Lost in our world, found in another.</td>\n",
       "      <td>John Carter</td>\n",
       "      <td>6.1</td>\n",
       "      <td>2124</td>\n",
       "    </tr>\n",
       "  </tbody>\n",
       "</table>\n",
       "</div>"
      ],
      "text/plain": [
       "      budget                                             genres  \\\n",
       "0  237000000  [{\"id\": 28, \"name\": \"Action\"}, {\"id\": 12, \"nam...   \n",
       "1  300000000  [{\"id\": 12, \"name\": \"Adventure\"}, {\"id\": 14, \"...   \n",
       "2  245000000  [{\"id\": 28, \"name\": \"Action\"}, {\"id\": 12, \"nam...   \n",
       "3  250000000  [{\"id\": 28, \"name\": \"Action\"}, {\"id\": 80, \"nam...   \n",
       "4  260000000  [{\"id\": 28, \"name\": \"Action\"}, {\"id\": 12, \"nam...   \n",
       "\n",
       "                                       homepage      id  \\\n",
       "0                   http://www.avatarmovie.com/   19995   \n",
       "1  http://disney.go.com/disneypictures/pirates/     285   \n",
       "2   http://www.sonypictures.com/movies/spectre/  206647   \n",
       "3            http://www.thedarkknightrises.com/   49026   \n",
       "4          http://movies.disney.com/john-carter   49529   \n",
       "\n",
       "                                            keywords original_language  \\\n",
       "0  [{\"id\": 1463, \"name\": \"culture clash\"}, {\"id\":...                en   \n",
       "1  [{\"id\": 270, \"name\": \"ocean\"}, {\"id\": 726, \"na...                en   \n",
       "2  [{\"id\": 470, \"name\": \"spy\"}, {\"id\": 818, \"name...                en   \n",
       "3  [{\"id\": 849, \"name\": \"dc comics\"}, {\"id\": 853,...                en   \n",
       "4  [{\"id\": 818, \"name\": \"based on novel\"}, {\"id\":...                en   \n",
       "\n",
       "                             original_title  \\\n",
       "0                                    Avatar   \n",
       "1  Pirates of the Caribbean: At World's End   \n",
       "2                                   Spectre   \n",
       "3                     The Dark Knight Rises   \n",
       "4                               John Carter   \n",
       "\n",
       "                                            overview  popularity  \\\n",
       "0  In the 22nd century, a paraplegic Marine is di...  150.437577   \n",
       "1  Captain Barbossa, long believed to be dead, ha...  139.082615   \n",
       "2  A cryptic message from Bond’s past sends him o...  107.376788   \n",
       "3  Following the death of District Attorney Harve...  112.312950   \n",
       "4  John Carter is a war-weary, former military ca...   43.926995   \n",
       "\n",
       "                                production_companies  \\\n",
       "0  [{\"name\": \"Ingenious Film Partners\", \"id\": 289...   \n",
       "1  [{\"name\": \"Walt Disney Pictures\", \"id\": 2}, {\"...   \n",
       "2  [{\"name\": \"Columbia Pictures\", \"id\": 5}, {\"nam...   \n",
       "3  [{\"name\": \"Legendary Pictures\", \"id\": 923}, {\"...   \n",
       "4        [{\"name\": \"Walt Disney Pictures\", \"id\": 2}]   \n",
       "\n",
       "                                production_countries release_date     revenue  \\\n",
       "0  [{\"iso_3166_1\": \"US\", \"name\": \"United States o...   2009-12-10  2787965087   \n",
       "1  [{\"iso_3166_1\": \"US\", \"name\": \"United States o...   2007-05-19   961000000   \n",
       "2  [{\"iso_3166_1\": \"GB\", \"name\": \"United Kingdom\"...   2015-10-26   880674609   \n",
       "3  [{\"iso_3166_1\": \"US\", \"name\": \"United States o...   2012-07-16  1084939099   \n",
       "4  [{\"iso_3166_1\": \"US\", \"name\": \"United States o...   2012-03-07   284139100   \n",
       "\n",
       "   runtime                                   spoken_languages    status  \\\n",
       "0    162.0  [{\"iso_639_1\": \"en\", \"name\": \"English\"}, {\"iso...  Released   \n",
       "1    169.0           [{\"iso_639_1\": \"en\", \"name\": \"English\"}]  Released   \n",
       "2    148.0  [{\"iso_639_1\": \"fr\", \"name\": \"Fran\\u00e7ais\"},...  Released   \n",
       "3    165.0           [{\"iso_639_1\": \"en\", \"name\": \"English\"}]  Released   \n",
       "4    132.0           [{\"iso_639_1\": \"en\", \"name\": \"English\"}]  Released   \n",
       "\n",
       "                                          tagline  \\\n",
       "0                     Enter the World of Pandora.   \n",
       "1  At the end of the world, the adventure begins.   \n",
       "2                           A Plan No One Escapes   \n",
       "3                                 The Legend Ends   \n",
       "4            Lost in our world, found in another.   \n",
       "\n",
       "                                      title  vote_average  vote_count  \n",
       "0                                    Avatar           7.2       11800  \n",
       "1  Pirates of the Caribbean: At World's End           6.9        4500  \n",
       "2                                   Spectre           6.3        4466  \n",
       "3                     The Dark Knight Rises           7.6        9106  \n",
       "4                               John Carter           6.1        2124  "
      ]
     },
     "execution_count": 50,
     "metadata": {},
     "output_type": "execute_result"
    }
   ],
   "source": [
    "\n",
    "movies.head()"
   ]
  },
  {
   "cell_type": "code",
   "execution_count": 51,
   "id": "66093765-a402-4495-b866-e49c4b5c3ba6",
   "metadata": {},
   "outputs": [
    {
     "data": {
      "text/html": [
       "<div>\n",
       "<style scoped>\n",
       "    .dataframe tbody tr th:only-of-type {\n",
       "        vertical-align: middle;\n",
       "    }\n",
       "\n",
       "    .dataframe tbody tr th {\n",
       "        vertical-align: top;\n",
       "    }\n",
       "\n",
       "    .dataframe thead th {\n",
       "        text-align: right;\n",
       "    }\n",
       "</style>\n",
       "<table border=\"1\" class=\"dataframe\">\n",
       "  <thead>\n",
       "    <tr style=\"text-align: right;\">\n",
       "      <th></th>\n",
       "      <th>budget</th>\n",
       "      <th>genres</th>\n",
       "      <th>homepage</th>\n",
       "      <th>id</th>\n",
       "      <th>keywords</th>\n",
       "      <th>original_language</th>\n",
       "      <th>original_title</th>\n",
       "      <th>overview</th>\n",
       "      <th>popularity</th>\n",
       "      <th>production_companies</th>\n",
       "      <th>production_countries</th>\n",
       "      <th>release_date</th>\n",
       "      <th>revenue</th>\n",
       "      <th>runtime</th>\n",
       "      <th>spoken_languages</th>\n",
       "      <th>status</th>\n",
       "      <th>tagline</th>\n",
       "      <th>title</th>\n",
       "      <th>vote_average</th>\n",
       "      <th>vote_count</th>\n",
       "    </tr>\n",
       "  </thead>\n",
       "  <tbody>\n",
       "    <tr>\n",
       "      <th>2249</th>\n",
       "      <td>0</td>\n",
       "      <td>[{\"id\": 35, \"name\": \"Comedy\"}, {\"id\": 10402, \"...</td>\n",
       "      <td>NaN</td>\n",
       "      <td>40932</td>\n",
       "      <td>[{\"id\": 11663, \"name\": \"camp\"}, {\"id\": 155490,...</td>\n",
       "      <td>en</td>\n",
       "      <td>Can't Stop the Music</td>\n",
       "      <td>Movie about the Village People filmed in a doc...</td>\n",
       "      <td>6.574285</td>\n",
       "      <td>[{\"name\": \"EMI Films\", \"id\": 8263}]</td>\n",
       "      <td>[{\"iso_3166_1\": \"US\", \"name\": \"United States o...</td>\n",
       "      <td>1980-06-20</td>\n",
       "      <td>0</td>\n",
       "      <td>124.0</td>\n",
       "      <td>[{\"iso_639_1\": \"en\", \"name\": \"English\"}]</td>\n",
       "      <td>Released</td>\n",
       "      <td>The Musical Comedy Smash of the 80's!</td>\n",
       "      <td>Can't Stop the Music</td>\n",
       "      <td>4.9</td>\n",
       "      <td>9</td>\n",
       "    </tr>\n",
       "  </tbody>\n",
       "</table>\n",
       "</div>"
      ],
      "text/plain": [
       "      budget                                             genres homepage  \\\n",
       "2249       0  [{\"id\": 35, \"name\": \"Comedy\"}, {\"id\": 10402, \"...      NaN   \n",
       "\n",
       "         id                                           keywords  \\\n",
       "2249  40932  [{\"id\": 11663, \"name\": \"camp\"}, {\"id\": 155490,...   \n",
       "\n",
       "     original_language        original_title  \\\n",
       "2249                en  Can't Stop the Music   \n",
       "\n",
       "                                               overview  popularity  \\\n",
       "2249  Movie about the Village People filmed in a doc...    6.574285   \n",
       "\n",
       "                     production_companies  \\\n",
       "2249  [{\"name\": \"EMI Films\", \"id\": 8263}]   \n",
       "\n",
       "                                   production_countries release_date  revenue  \\\n",
       "2249  [{\"iso_3166_1\": \"US\", \"name\": \"United States o...   1980-06-20        0   \n",
       "\n",
       "      runtime                          spoken_languages    status  \\\n",
       "2249    124.0  [{\"iso_639_1\": \"en\", \"name\": \"English\"}]  Released   \n",
       "\n",
       "                                    tagline                 title  \\\n",
       "2249  The Musical Comedy Smash of the 80's!  Can't Stop the Music   \n",
       "\n",
       "      vote_average  vote_count  \n",
       "2249           4.9           9  "
      ]
     },
     "execution_count": 51,
     "metadata": {},
     "output_type": "execute_result"
    }
   ],
   "source": [
    "movies.sample()"
   ]
  },
  {
   "cell_type": "code",
   "execution_count": 52,
   "id": "f521151d-02b2-40ad-b996-e610ba96cd3a",
   "metadata": {},
   "outputs": [],
   "source": [
    "movies=movies.merge(credits,on='title')"
   ]
  },
  {
   "cell_type": "markdown",
   "id": "fb8739ae-1a32-420f-8901-b2fb5636756c",
   "metadata": {},
   "source": [
    "# col to keep\n",
    "# genere\n",
    "# keyword\n",
    "# title\n",
    "# overview\n",
    "# cast\n",
    "# crew"
   ]
  },
  {
   "cell_type": "code",
   "execution_count": 53,
   "id": "d9d9f57a-62b0-4272-a743-a7a6c1f910b2",
   "metadata": {},
   "outputs": [],
   "source": [
    "movies=movies[['movie_id',\n",
    "        'title',\n",
    "        'overview',\n",
    "        'genres',\n",
    "       'keywords',\n",
    "       'cast',\n",
    "       'crew']]"
   ]
  },
  {
   "cell_type": "code",
   "execution_count": 54,
   "id": "5f5acdb6-374b-4336-bc31-96d39fbfc6b6",
   "metadata": {},
   "outputs": [
    {
     "data": {
      "text/html": [
       "<div>\n",
       "<style scoped>\n",
       "    .dataframe tbody tr th:only-of-type {\n",
       "        vertical-align: middle;\n",
       "    }\n",
       "\n",
       "    .dataframe tbody tr th {\n",
       "        vertical-align: top;\n",
       "    }\n",
       "\n",
       "    .dataframe thead th {\n",
       "        text-align: right;\n",
       "    }\n",
       "</style>\n",
       "<table border=\"1\" class=\"dataframe\">\n",
       "  <thead>\n",
       "    <tr style=\"text-align: right;\">\n",
       "      <th></th>\n",
       "      <th>movie_id</th>\n",
       "      <th>title</th>\n",
       "      <th>overview</th>\n",
       "      <th>genres</th>\n",
       "      <th>keywords</th>\n",
       "      <th>cast</th>\n",
       "      <th>crew</th>\n",
       "    </tr>\n",
       "  </thead>\n",
       "  <tbody>\n",
       "    <tr>\n",
       "      <th>2423</th>\n",
       "      <td>9792</td>\n",
       "      <td>The Hills Have Eyes</td>\n",
       "      <td>Based on Wes Craven's 1977 suspenseful cult cl...</td>\n",
       "      <td>[{\"id\": 27, \"name\": \"Horror\"}, {\"id\": 53, \"nam...</td>\n",
       "      <td>[{\"id\": 502, \"name\": \"ambush\"}, {\"id\": 1508, \"...</td>\n",
       "      <td>[{\"cast_id\": 1, \"character\": \"Doug Bukowski\", ...</td>\n",
       "      <td>[{\"credit_id\": \"52fe452ec3a36847f80c0c49\", \"de...</td>\n",
       "    </tr>\n",
       "  </tbody>\n",
       "</table>\n",
       "</div>"
      ],
      "text/plain": [
       "      movie_id                title  \\\n",
       "2423      9792  The Hills Have Eyes   \n",
       "\n",
       "                                               overview  \\\n",
       "2423  Based on Wes Craven's 1977 suspenseful cult cl...   \n",
       "\n",
       "                                                 genres  \\\n",
       "2423  [{\"id\": 27, \"name\": \"Horror\"}, {\"id\": 53, \"nam...   \n",
       "\n",
       "                                               keywords  \\\n",
       "2423  [{\"id\": 502, \"name\": \"ambush\"}, {\"id\": 1508, \"...   \n",
       "\n",
       "                                                   cast  \\\n",
       "2423  [{\"cast_id\": 1, \"character\": \"Doug Bukowski\", ...   \n",
       "\n",
       "                                                   crew  \n",
       "2423  [{\"credit_id\": \"52fe452ec3a36847f80c0c49\", \"de...  "
      ]
     },
     "execution_count": 54,
     "metadata": {},
     "output_type": "execute_result"
    }
   ],
   "source": [
    "movies.sample()"
   ]
  },
  {
   "cell_type": "code",
   "execution_count": 55,
   "id": "601f9e34-cb18-4605-a6e9-463924d4f6e8",
   "metadata": {},
   "outputs": [],
   "source": [
    "movies.dropna(inplace=True)"
   ]
  },
  {
   "cell_type": "code",
   "execution_count": 56,
   "id": "ff36c3a3-ee1d-4b1d-8bd1-aadc056a386d",
   "metadata": {},
   "outputs": [
    {
     "data": {
      "text/plain": [
       "movie_id    0\n",
       "title       0\n",
       "overview    0\n",
       "genres      0\n",
       "keywords    0\n",
       "cast        0\n",
       "crew        0\n",
       "dtype: int64"
      ]
     },
     "execution_count": 56,
     "metadata": {},
     "output_type": "execute_result"
    }
   ],
   "source": [
    "movies.isnull().sum()"
   ]
  },
  {
   "cell_type": "code",
   "execution_count": 57,
   "id": "5c2136e0-1b39-40a9-a1a5-140e218177b5",
   "metadata": {},
   "outputs": [
    {
     "data": {
      "text/plain": [
       "0"
      ]
     },
     "execution_count": 57,
     "metadata": {},
     "output_type": "execute_result"
    }
   ],
   "source": [
    "movies.duplicated().sum()"
   ]
  },
  {
   "cell_type": "code",
   "execution_count": 58,
   "id": "091db32a-c1c5-488f-a49a-441d33f286bc",
   "metadata": {},
   "outputs": [
    {
     "data": {
      "text/plain": [
       "'[{\"id\": 28, \"name\": \"Action\"}, {\"id\": 12, \"name\": \"Adventure\"}, {\"id\": 14, \"name\": \"Fantasy\"}, {\"id\": 878, \"name\": \"Science Fiction\"}]'"
      ]
     },
     "execution_count": 58,
     "metadata": {},
     "output_type": "execute_result"
    }
   ],
   "source": [
    "movies.iloc[0].genres"
   ]
  },
  {
   "cell_type": "code",
   "execution_count": 59,
   "id": "9e4c3028-43bb-477d-a408-9f8205c61a3b",
   "metadata": {},
   "outputs": [],
   "source": [
    "import ast\n",
    "def convert(obj):\n",
    "    L=[]\n",
    "    for i in ast.literal_eval(obj):\n",
    "        L.append(i['name'])\n",
    "        return L"
   ]
  },
  {
   "cell_type": "code",
   "execution_count": 60,
   "id": "0c21cad5-ee14-4506-9c22-e59e92b6c4f9",
   "metadata": {},
   "outputs": [],
   "source": [
    "movies['genres']=movies['genres'].apply(convert)"
   ]
  },
  {
   "cell_type": "code",
   "execution_count": 61,
   "id": "bf2672fe-425c-4ca0-84f2-aeb294340cd9",
   "metadata": {},
   "outputs": [
    {
     "data": {
      "text/html": [
       "<div>\n",
       "<style scoped>\n",
       "    .dataframe tbody tr th:only-of-type {\n",
       "        vertical-align: middle;\n",
       "    }\n",
       "\n",
       "    .dataframe tbody tr th {\n",
       "        vertical-align: top;\n",
       "    }\n",
       "\n",
       "    .dataframe thead th {\n",
       "        text-align: right;\n",
       "    }\n",
       "</style>\n",
       "<table border=\"1\" class=\"dataframe\">\n",
       "  <thead>\n",
       "    <tr style=\"text-align: right;\">\n",
       "      <th></th>\n",
       "      <th>movie_id</th>\n",
       "      <th>title</th>\n",
       "      <th>overview</th>\n",
       "      <th>genres</th>\n",
       "      <th>keywords</th>\n",
       "      <th>cast</th>\n",
       "      <th>crew</th>\n",
       "    </tr>\n",
       "  </thead>\n",
       "  <tbody>\n",
       "    <tr>\n",
       "      <th>2605</th>\n",
       "      <td>15237</td>\n",
       "      <td>De-Lovely</td>\n",
       "      <td>From Paris to Venice to Broadway to Hollywood,...</td>\n",
       "      <td>[Drama]</td>\n",
       "      <td>[{\"id\": 4344, \"name\": \"musical\"}, {\"id\": 5565,...</td>\n",
       "      <td>[{\"cast_id\": 1, \"character\": \"Cole Porter\", \"c...</td>\n",
       "      <td>[{\"credit_id\": \"55478ac9c3a3680ce600ba28\", \"de...</td>\n",
       "    </tr>\n",
       "    <tr>\n",
       "      <th>398</th>\n",
       "      <td>298</td>\n",
       "      <td>Ocean's Thirteen</td>\n",
       "      <td>Danny Ocean's team of criminals are back and c...</td>\n",
       "      <td>[Crime]</td>\n",
       "      <td>[{\"id\": 585, \"name\": \"casino\"}, {\"id\": 9727, \"...</td>\n",
       "      <td>[{\"cast_id\": 1, \"character\": \"Daniel Ocean\", \"...</td>\n",
       "      <td>[{\"credit_id\": \"5676c14992514179d4005d5f\", \"de...</td>\n",
       "    </tr>\n",
       "    <tr>\n",
       "      <th>2697</th>\n",
       "      <td>10368</td>\n",
       "      <td>Tea with Mussolini</td>\n",
       "      <td>Semi-autobiographical film directed by Franco ...</td>\n",
       "      <td>[Comedy]</td>\n",
       "      <td>[{\"id\": 131, \"name\": \"italy\"}, {\"id\": 612, \"na...</td>\n",
       "      <td>[{\"cast_id\": 1, \"character\": \"Elsa Armistan\", ...</td>\n",
       "      <td>[{\"credit_id\": \"52fe43619251416c7500e239\", \"de...</td>\n",
       "    </tr>\n",
       "    <tr>\n",
       "      <th>1841</th>\n",
       "      <td>41630</td>\n",
       "      <td>No Strings Attached</td>\n",
       "      <td>Emma is a busy doctor who sets up a seemingly ...</td>\n",
       "      <td>[Comedy]</td>\n",
       "      <td>[{\"id\": 494, \"name\": \"father son relationship\"...</td>\n",
       "      <td>[{\"cast_id\": 14, \"character\": \"Emma Kurtzman\",...</td>\n",
       "      <td>[{\"credit_id\": \"58af1db8c3a3684605000048\", \"de...</td>\n",
       "    </tr>\n",
       "    <tr>\n",
       "      <th>3163</th>\n",
       "      <td>348</td>\n",
       "      <td>Alien</td>\n",
       "      <td>During its return to the earth, commercial spa...</td>\n",
       "      <td>[Horror]</td>\n",
       "      <td>[{\"id\": 803, \"name\": \"android\"}, {\"id\": 1825, ...</td>\n",
       "      <td>[{\"cast_id\": 3, \"character\": \"Arthur Dallas\", ...</td>\n",
       "      <td>[{\"credit_id\": \"52fe423bc3a36847f800e117\", \"de...</td>\n",
       "    </tr>\n",
       "    <tr>\n",
       "      <th>2235</th>\n",
       "      <td>106747</td>\n",
       "      <td>Machete Kills</td>\n",
       "      <td>Ex-Federale agent Machete is recruited by the ...</td>\n",
       "      <td>[Action]</td>\n",
       "      <td>[{\"id\": 534, \"name\": \"mexico\"}, {\"id\": 833, \"n...</td>\n",
       "      <td>[{\"cast_id\": 11, \"character\": \"Machete Cortez\"...</td>\n",
       "      <td>[{\"credit_id\": \"52fe4a70c3a36847f81cde43\", \"de...</td>\n",
       "    </tr>\n",
       "    <tr>\n",
       "      <th>1335</th>\n",
       "      <td>96721</td>\n",
       "      <td>Rush</td>\n",
       "      <td>A biographical drama centered on the rivalry b...</td>\n",
       "      <td>[Drama]</td>\n",
       "      <td>[{\"id\": 5378, \"name\": \"world champion\"}, {\"id\"...</td>\n",
       "      <td>[{\"cast_id\": 2, \"character\": \"Niki Lauda\", \"cr...</td>\n",
       "      <td>[{\"credit_id\": \"52fe49bf9251416c750d20f1\", \"de...</td>\n",
       "    </tr>\n",
       "    <tr>\n",
       "      <th>3648</th>\n",
       "      <td>13685</td>\n",
       "      <td>Bottle Rocket</td>\n",
       "      <td>Upon his release from a mental hospital follow...</td>\n",
       "      <td>[Comedy]</td>\n",
       "      <td>[{\"id\": 380, \"name\": \"brother brother relation...</td>\n",
       "      <td>[{\"cast_id\": 1, \"character\": \"Anthony Adams\", ...</td>\n",
       "      <td>[{\"credit_id\": \"52fe458b9251416c7505a3bf\", \"de...</td>\n",
       "    </tr>\n",
       "    <tr>\n",
       "      <th>2556</th>\n",
       "      <td>947</td>\n",
       "      <td>Lawrence of Arabia</td>\n",
       "      <td>An epic about British officer T.E. Lawrence's ...</td>\n",
       "      <td>[Adventure]</td>\n",
       "      <td>[{\"id\": 487, \"name\": \"cairo\"}, {\"id\": 1975, \"n...</td>\n",
       "      <td>[{\"cast_id\": 18, \"character\": \"T.E. Lawrence\",...</td>\n",
       "      <td>[{\"credit_id\": \"5715157dc3a3684122010c0c\", \"de...</td>\n",
       "    </tr>\n",
       "    <tr>\n",
       "      <th>2826</th>\n",
       "      <td>9762</td>\n",
       "      <td>Step Up</td>\n",
       "      <td>Everyone deserves a chance to follow their dre...</td>\n",
       "      <td>[Music]</td>\n",
       "      <td>[{\"id\": 246, \"name\": \"dancing\"}, {\"id\": 1605, ...</td>\n",
       "      <td>[{\"cast_id\": 1, \"character\": \"Tyler Gage\", \"cr...</td>\n",
       "      <td>[{\"credit_id\": \"569591f2c3a3687185000de0\", \"de...</td>\n",
       "    </tr>\n",
       "  </tbody>\n",
       "</table>\n",
       "</div>"
      ],
      "text/plain": [
       "      movie_id                title  \\\n",
       "2605     15237            De-Lovely   \n",
       "398        298     Ocean's Thirteen   \n",
       "2697     10368   Tea with Mussolini   \n",
       "1841     41630  No Strings Attached   \n",
       "3163       348                Alien   \n",
       "2235    106747        Machete Kills   \n",
       "1335     96721                 Rush   \n",
       "3648     13685        Bottle Rocket   \n",
       "2556       947   Lawrence of Arabia   \n",
       "2826      9762              Step Up   \n",
       "\n",
       "                                               overview       genres  \\\n",
       "2605  From Paris to Venice to Broadway to Hollywood,...      [Drama]   \n",
       "398   Danny Ocean's team of criminals are back and c...      [Crime]   \n",
       "2697  Semi-autobiographical film directed by Franco ...     [Comedy]   \n",
       "1841  Emma is a busy doctor who sets up a seemingly ...     [Comedy]   \n",
       "3163  During its return to the earth, commercial spa...     [Horror]   \n",
       "2235  Ex-Federale agent Machete is recruited by the ...     [Action]   \n",
       "1335  A biographical drama centered on the rivalry b...      [Drama]   \n",
       "3648  Upon his release from a mental hospital follow...     [Comedy]   \n",
       "2556  An epic about British officer T.E. Lawrence's ...  [Adventure]   \n",
       "2826  Everyone deserves a chance to follow their dre...      [Music]   \n",
       "\n",
       "                                               keywords  \\\n",
       "2605  [{\"id\": 4344, \"name\": \"musical\"}, {\"id\": 5565,...   \n",
       "398   [{\"id\": 585, \"name\": \"casino\"}, {\"id\": 9727, \"...   \n",
       "2697  [{\"id\": 131, \"name\": \"italy\"}, {\"id\": 612, \"na...   \n",
       "1841  [{\"id\": 494, \"name\": \"father son relationship\"...   \n",
       "3163  [{\"id\": 803, \"name\": \"android\"}, {\"id\": 1825, ...   \n",
       "2235  [{\"id\": 534, \"name\": \"mexico\"}, {\"id\": 833, \"n...   \n",
       "1335  [{\"id\": 5378, \"name\": \"world champion\"}, {\"id\"...   \n",
       "3648  [{\"id\": 380, \"name\": \"brother brother relation...   \n",
       "2556  [{\"id\": 487, \"name\": \"cairo\"}, {\"id\": 1975, \"n...   \n",
       "2826  [{\"id\": 246, \"name\": \"dancing\"}, {\"id\": 1605, ...   \n",
       "\n",
       "                                                   cast  \\\n",
       "2605  [{\"cast_id\": 1, \"character\": \"Cole Porter\", \"c...   \n",
       "398   [{\"cast_id\": 1, \"character\": \"Daniel Ocean\", \"...   \n",
       "2697  [{\"cast_id\": 1, \"character\": \"Elsa Armistan\", ...   \n",
       "1841  [{\"cast_id\": 14, \"character\": \"Emma Kurtzman\",...   \n",
       "3163  [{\"cast_id\": 3, \"character\": \"Arthur Dallas\", ...   \n",
       "2235  [{\"cast_id\": 11, \"character\": \"Machete Cortez\"...   \n",
       "1335  [{\"cast_id\": 2, \"character\": \"Niki Lauda\", \"cr...   \n",
       "3648  [{\"cast_id\": 1, \"character\": \"Anthony Adams\", ...   \n",
       "2556  [{\"cast_id\": 18, \"character\": \"T.E. Lawrence\",...   \n",
       "2826  [{\"cast_id\": 1, \"character\": \"Tyler Gage\", \"cr...   \n",
       "\n",
       "                                                   crew  \n",
       "2605  [{\"credit_id\": \"55478ac9c3a3680ce600ba28\", \"de...  \n",
       "398   [{\"credit_id\": \"5676c14992514179d4005d5f\", \"de...  \n",
       "2697  [{\"credit_id\": \"52fe43619251416c7500e239\", \"de...  \n",
       "1841  [{\"credit_id\": \"58af1db8c3a3684605000048\", \"de...  \n",
       "3163  [{\"credit_id\": \"52fe423bc3a36847f800e117\", \"de...  \n",
       "2235  [{\"credit_id\": \"52fe4a70c3a36847f81cde43\", \"de...  \n",
       "1335  [{\"credit_id\": \"52fe49bf9251416c750d20f1\", \"de...  \n",
       "3648  [{\"credit_id\": \"52fe458b9251416c7505a3bf\", \"de...  \n",
       "2556  [{\"credit_id\": \"5715157dc3a3684122010c0c\", \"de...  \n",
       "2826  [{\"credit_id\": \"569591f2c3a3687185000de0\", \"de...  "
      ]
     },
     "execution_count": 61,
     "metadata": {},
     "output_type": "execute_result"
    }
   ],
   "source": [
    "movies.sample(10)"
   ]
  },
  {
   "cell_type": "code",
   "execution_count": 62,
   "id": "2babb06e-b342-46bd-bcb3-192d45919129",
   "metadata": {},
   "outputs": [],
   "source": [
    "movies['keywords']=movies['keywords'].apply(convert)"
   ]
  },
  {
   "cell_type": "code",
   "execution_count": 63,
   "id": "c2ab86ed-6508-4242-9bf8-34d97c2ee141",
   "metadata": {},
   "outputs": [
    {
     "data": {
      "text/plain": [
       "0                      [culture clash]\n",
       "1                              [ocean]\n",
       "2                                [spy]\n",
       "3                          [dc comics]\n",
       "4                     [based on novel]\n",
       "                     ...              \n",
       "4804    [united states–mexico barrier]\n",
       "4805                              None\n",
       "4806                            [date]\n",
       "4807                              None\n",
       "4808                       [obsession]\n",
       "Name: keywords, Length: 4806, dtype: object"
      ]
     },
     "execution_count": 63,
     "metadata": {},
     "output_type": "execute_result"
    }
   ],
   "source": [
    "movies['keywords']"
   ]
  },
  {
   "cell_type": "code",
   "execution_count": 64,
   "id": "3b90a05f-567e-46ff-861d-b5de34d3b8d3",
   "metadata": {},
   "outputs": [],
   "source": [
    "import ast\n",
    "def convert3(obj):\n",
    "    L=[]\n",
    "    counter=0\n",
    "    for i in ast.literal_eval(obj):\n",
    "        if counter !=3:\n",
    "            L.append(i['name'])\n",
    "            counter+=1\n",
    "        else:\n",
    "            break\n",
    "        return L"
   ]
  },
  {
   "cell_type": "code",
   "execution_count": 65,
   "id": "16bc833e-48d1-4472-971b-63350da456af",
   "metadata": {},
   "outputs": [],
   "source": [
    "movies['cast']=movies['cast'].apply(convert3)"
   ]
  },
  {
   "cell_type": "code",
   "execution_count": 66,
   "id": "3f1c1e8f-0152-4504-81ce-73a475acef2c",
   "metadata": {},
   "outputs": [
    {
     "data": {
      "text/plain": [
       "0       [Sam Worthington]\n",
       "1           [Johnny Depp]\n",
       "2          [Daniel Craig]\n",
       "3        [Christian Bale]\n",
       "4         [Taylor Kitsch]\n",
       "              ...        \n",
       "4804    [Carlos Gallardo]\n",
       "4805       [Edward Burns]\n",
       "4806        [Eric Mabius]\n",
       "4807      [Daniel Henney]\n",
       "4808     [Drew Barrymore]\n",
       "Name: cast, Length: 4806, dtype: object"
      ]
     },
     "execution_count": 66,
     "metadata": {},
     "output_type": "execute_result"
    }
   ],
   "source": [
    "movies['cast']"
   ]
  },
  {
   "cell_type": "code",
   "execution_count": 67,
   "id": "65acea1a-7fa0-40d9-97db-16e032173dc6",
   "metadata": {},
   "outputs": [],
   "source": [
    "import ast\n",
    "def fetch_director(obj):\n",
    "    L=[]\n",
    "    for i in ast.literal_eval(obj):\n",
    "        if i['job']=='Director': \n",
    "           L.append(i['name'])\n",
    "           break\n",
    "    return L"
   ]
  },
  {
   "cell_type": "code",
   "execution_count": 69,
   "id": "7415e406-dbad-4b1f-a58c-78ba57b84504",
   "metadata": {},
   "outputs": [],
   "source": [
    "movies['crew']=movies['crew'].apply(fetch_director)"
   ]
  },
  {
   "cell_type": "code",
   "execution_count": 71,
   "id": "bdfb6158-f52e-49d3-98c6-01579f9030ca",
   "metadata": {},
   "outputs": [],
   "source": [
    "movies['overview']=movies['overview'].apply(lambda x:x.split())"
   ]
  },
  {
   "cell_type": "code",
   "execution_count": 72,
   "id": "ea7c5224-e4a0-4aef-a465-ea0fdd24a6a7",
   "metadata": {},
   "outputs": [
    {
     "data": {
      "text/html": [
       "<div>\n",
       "<style scoped>\n",
       "    .dataframe tbody tr th:only-of-type {\n",
       "        vertical-align: middle;\n",
       "    }\n",
       "\n",
       "    .dataframe tbody tr th {\n",
       "        vertical-align: top;\n",
       "    }\n",
       "\n",
       "    .dataframe thead th {\n",
       "        text-align: right;\n",
       "    }\n",
       "</style>\n",
       "<table border=\"1\" class=\"dataframe\">\n",
       "  <thead>\n",
       "    <tr style=\"text-align: right;\">\n",
       "      <th></th>\n",
       "      <th>movie_id</th>\n",
       "      <th>title</th>\n",
       "      <th>overview</th>\n",
       "      <th>genres</th>\n",
       "      <th>keywords</th>\n",
       "      <th>cast</th>\n",
       "      <th>crew</th>\n",
       "    </tr>\n",
       "  </thead>\n",
       "  <tbody>\n",
       "    <tr>\n",
       "      <th>0</th>\n",
       "      <td>19995</td>\n",
       "      <td>Avatar</td>\n",
       "      <td>[In, the, 22nd, century,, a, paraplegic, Marin...</td>\n",
       "      <td>[Action]</td>\n",
       "      <td>[culture clash]</td>\n",
       "      <td>[Sam Worthington]</td>\n",
       "      <td>[James Cameron]</td>\n",
       "    </tr>\n",
       "    <tr>\n",
       "      <th>1</th>\n",
       "      <td>285</td>\n",
       "      <td>Pirates of the Caribbean: At World's End</td>\n",
       "      <td>[Captain, Barbossa,, long, believed, to, be, d...</td>\n",
       "      <td>[Adventure]</td>\n",
       "      <td>[ocean]</td>\n",
       "      <td>[Johnny Depp]</td>\n",
       "      <td>[Gore Verbinski]</td>\n",
       "    </tr>\n",
       "    <tr>\n",
       "      <th>2</th>\n",
       "      <td>206647</td>\n",
       "      <td>Spectre</td>\n",
       "      <td>[A, cryptic, message, from, Bond’s, past, send...</td>\n",
       "      <td>[Action]</td>\n",
       "      <td>[spy]</td>\n",
       "      <td>[Daniel Craig]</td>\n",
       "      <td>[Sam Mendes]</td>\n",
       "    </tr>\n",
       "    <tr>\n",
       "      <th>3</th>\n",
       "      <td>49026</td>\n",
       "      <td>The Dark Knight Rises</td>\n",
       "      <td>[Following, the, death, of, District, Attorney...</td>\n",
       "      <td>[Action]</td>\n",
       "      <td>[dc comics]</td>\n",
       "      <td>[Christian Bale]</td>\n",
       "      <td>[Christopher Nolan]</td>\n",
       "    </tr>\n",
       "    <tr>\n",
       "      <th>4</th>\n",
       "      <td>49529</td>\n",
       "      <td>John Carter</td>\n",
       "      <td>[John, Carter, is, a, war-weary,, former, mili...</td>\n",
       "      <td>[Action]</td>\n",
       "      <td>[based on novel]</td>\n",
       "      <td>[Taylor Kitsch]</td>\n",
       "      <td>[Andrew Stanton]</td>\n",
       "    </tr>\n",
       "  </tbody>\n",
       "</table>\n",
       "</div>"
      ],
      "text/plain": [
       "   movie_id                                     title  \\\n",
       "0     19995                                    Avatar   \n",
       "1       285  Pirates of the Caribbean: At World's End   \n",
       "2    206647                                   Spectre   \n",
       "3     49026                     The Dark Knight Rises   \n",
       "4     49529                               John Carter   \n",
       "\n",
       "                                            overview       genres  \\\n",
       "0  [In, the, 22nd, century,, a, paraplegic, Marin...     [Action]   \n",
       "1  [Captain, Barbossa,, long, believed, to, be, d...  [Adventure]   \n",
       "2  [A, cryptic, message, from, Bond’s, past, send...     [Action]   \n",
       "3  [Following, the, death, of, District, Attorney...     [Action]   \n",
       "4  [John, Carter, is, a, war-weary,, former, mili...     [Action]   \n",
       "\n",
       "           keywords               cast                 crew  \n",
       "0   [culture clash]  [Sam Worthington]      [James Cameron]  \n",
       "1           [ocean]      [Johnny Depp]     [Gore Verbinski]  \n",
       "2             [spy]     [Daniel Craig]         [Sam Mendes]  \n",
       "3       [dc comics]   [Christian Bale]  [Christopher Nolan]  \n",
       "4  [based on novel]    [Taylor Kitsch]     [Andrew Stanton]  "
      ]
     },
     "execution_count": 72,
     "metadata": {},
     "output_type": "execute_result"
    }
   ],
   "source": [
    "movies.head()"
   ]
  },
  {
   "cell_type": "code",
   "execution_count": 75,
   "id": "3d7b630d-3505-441b-87ae-cb9dc7771b39",
   "metadata": {},
   "outputs": [],
   "source": [
    "movies['genres']=movies['genres'].apply(lambda x:[i.replace(\" \",\"\") for i in x] if x is not None else x)\n",
    "movies['keywords']=movies['keywords'].apply(lambda x:[i.replace(\" \",\"\") for i in x] if x is not None else x)\n",
    "movies['cast']=movies['cast'].apply(lambda x:[i.replace(\" \",\"\") for i in x] if x is not None else x)\n",
    "movies['crew']=movies['crew'].apply(lambda x:[i.replace(\" \",\"\") for i in x] if x is not None else x)"
   ]
  },
  {
   "cell_type": "code",
   "execution_count": 76,
   "id": "ecd56466-db3c-448c-b6b6-0e780a38fa31",
   "metadata": {},
   "outputs": [
    {
     "data": {
      "text/html": [
       "<div>\n",
       "<style scoped>\n",
       "    .dataframe tbody tr th:only-of-type {\n",
       "        vertical-align: middle;\n",
       "    }\n",
       "\n",
       "    .dataframe tbody tr th {\n",
       "        vertical-align: top;\n",
       "    }\n",
       "\n",
       "    .dataframe thead th {\n",
       "        text-align: right;\n",
       "    }\n",
       "</style>\n",
       "<table border=\"1\" class=\"dataframe\">\n",
       "  <thead>\n",
       "    <tr style=\"text-align: right;\">\n",
       "      <th></th>\n",
       "      <th>movie_id</th>\n",
       "      <th>title</th>\n",
       "      <th>overview</th>\n",
       "      <th>genres</th>\n",
       "      <th>keywords</th>\n",
       "      <th>cast</th>\n",
       "      <th>crew</th>\n",
       "    </tr>\n",
       "  </thead>\n",
       "  <tbody>\n",
       "    <tr>\n",
       "      <th>1412</th>\n",
       "      <td>2447</td>\n",
       "      <td>The Nativity Story</td>\n",
       "      <td>[Mary, and, Joseph, make, the, hard, journey, ...</td>\n",
       "      <td>[Drama]</td>\n",
       "      <td>[jesuschrist]</td>\n",
       "      <td>[KeishaCastle-Hughes]</td>\n",
       "      <td>[CatherineHardwicke]</td>\n",
       "    </tr>\n",
       "    <tr>\n",
       "      <th>980</th>\n",
       "      <td>10386</td>\n",
       "      <td>The Iron Giant</td>\n",
       "      <td>[In, the, small, town, of, Rockwell,, Maine, i...</td>\n",
       "      <td>[Adventure]</td>\n",
       "      <td>[coldwar]</td>\n",
       "      <td>[EliMarienthal]</td>\n",
       "      <td>[BradBird]</td>\n",
       "    </tr>\n",
       "    <tr>\n",
       "      <th>1946</th>\n",
       "      <td>72113</td>\n",
       "      <td>Carnage</td>\n",
       "      <td>[After, 11-year-old, Zachary, Cowan, strikes, ...</td>\n",
       "      <td>[Comedy]</td>\n",
       "      <td>[flat]</td>\n",
       "      <td>[KateWinslet]</td>\n",
       "      <td>[RomanPolanski]</td>\n",
       "    </tr>\n",
       "    <tr>\n",
       "      <th>2696</th>\n",
       "      <td>14557</td>\n",
       "      <td>Dead Man on Campus</td>\n",
       "      <td>[Josh, Miller, (Tom, Everett, Scott), is, a, s...</td>\n",
       "      <td>[Comedy]</td>\n",
       "      <td>[college]</td>\n",
       "      <td>[TomEverettScott]</td>\n",
       "      <td>[AlanCohn]</td>\n",
       "    </tr>\n",
       "  </tbody>\n",
       "</table>\n",
       "</div>"
      ],
      "text/plain": [
       "      movie_id               title  \\\n",
       "1412      2447  The Nativity Story   \n",
       "980      10386      The Iron Giant   \n",
       "1946     72113             Carnage   \n",
       "2696     14557  Dead Man on Campus   \n",
       "\n",
       "                                               overview       genres  \\\n",
       "1412  [Mary, and, Joseph, make, the, hard, journey, ...      [Drama]   \n",
       "980   [In, the, small, town, of, Rockwell,, Maine, i...  [Adventure]   \n",
       "1946  [After, 11-year-old, Zachary, Cowan, strikes, ...     [Comedy]   \n",
       "2696  [Josh, Miller, (Tom, Everett, Scott), is, a, s...     [Comedy]   \n",
       "\n",
       "           keywords                   cast                  crew  \n",
       "1412  [jesuschrist]  [KeishaCastle-Hughes]  [CatherineHardwicke]  \n",
       "980       [coldwar]        [EliMarienthal]            [BradBird]  \n",
       "1946         [flat]          [KateWinslet]       [RomanPolanski]  \n",
       "2696      [college]      [TomEverettScott]            [AlanCohn]  "
      ]
     },
     "execution_count": 76,
     "metadata": {},
     "output_type": "execute_result"
    }
   ],
   "source": [
    "movies.sample(4)"
   ]
  },
  {
   "cell_type": "code",
   "execution_count": 77,
   "id": "fea2e04e-cbaa-4eff-86ed-55e28dc9f29c",
   "metadata": {},
   "outputs": [],
   "source": [
    "movies['tags']=movies['overview']+movies['genres']+movies['keywords']+movies['cast']+movies['crew']"
   ]
  },
  {
   "cell_type": "code",
   "execution_count": 78,
   "id": "d0c5c038-97a5-4f95-8054-594ddfb8f637",
   "metadata": {},
   "outputs": [
    {
     "data": {
      "text/plain": [
       "0       [In, the, 22nd, century,, a, paraplegic, Marin...\n",
       "1       [Captain, Barbossa,, long, believed, to, be, d...\n",
       "2       [A, cryptic, message, from, Bond’s, past, send...\n",
       "3       [Following, the, death, of, District, Attorney...\n",
       "4       [John, Carter, is, a, war-weary,, former, mili...\n",
       "                              ...                        \n",
       "4804    [El, Mariachi, just, wants, to, play, his, gui...\n",
       "4805                                                  NaN\n",
       "4806    [\"Signed,, Sealed,, Delivered\", introduces, a,...\n",
       "4807                                                  NaN\n",
       "4808    [Ever, since, the, second, grade, when, he, fi...\n",
       "Name: tags, Length: 4806, dtype: object"
      ]
     },
     "execution_count": 78,
     "metadata": {},
     "output_type": "execute_result"
    }
   ],
   "source": [
    "movies['tags']"
   ]
  },
  {
   "cell_type": "code",
   "execution_count": 80,
   "id": "2e3efa01-fb58-43ed-a8cf-7eecc138e6d7",
   "metadata": {},
   "outputs": [],
   "source": [
    "new_df=movies[['movie_id','title','tags']]"
   ]
  },
  {
   "cell_type": "code",
   "execution_count": 81,
   "id": "03762663-f547-4ff8-8053-cc3ffe40e168",
   "metadata": {},
   "outputs": [
    {
     "data": {
      "text/html": [
       "<div>\n",
       "<style scoped>\n",
       "    .dataframe tbody tr th:only-of-type {\n",
       "        vertical-align: middle;\n",
       "    }\n",
       "\n",
       "    .dataframe tbody tr th {\n",
       "        vertical-align: top;\n",
       "    }\n",
       "\n",
       "    .dataframe thead th {\n",
       "        text-align: right;\n",
       "    }\n",
       "</style>\n",
       "<table border=\"1\" class=\"dataframe\">\n",
       "  <thead>\n",
       "    <tr style=\"text-align: right;\">\n",
       "      <th></th>\n",
       "      <th>movie_id</th>\n",
       "      <th>title</th>\n",
       "      <th>tags</th>\n",
       "    </tr>\n",
       "  </thead>\n",
       "  <tbody>\n",
       "    <tr>\n",
       "      <th>0</th>\n",
       "      <td>19995</td>\n",
       "      <td>Avatar</td>\n",
       "      <td>[In, the, 22nd, century,, a, paraplegic, Marin...</td>\n",
       "    </tr>\n",
       "    <tr>\n",
       "      <th>1</th>\n",
       "      <td>285</td>\n",
       "      <td>Pirates of the Caribbean: At World's End</td>\n",
       "      <td>[Captain, Barbossa,, long, believed, to, be, d...</td>\n",
       "    </tr>\n",
       "    <tr>\n",
       "      <th>2</th>\n",
       "      <td>206647</td>\n",
       "      <td>Spectre</td>\n",
       "      <td>[A, cryptic, message, from, Bond’s, past, send...</td>\n",
       "    </tr>\n",
       "    <tr>\n",
       "      <th>3</th>\n",
       "      <td>49026</td>\n",
       "      <td>The Dark Knight Rises</td>\n",
       "      <td>[Following, the, death, of, District, Attorney...</td>\n",
       "    </tr>\n",
       "    <tr>\n",
       "      <th>4</th>\n",
       "      <td>49529</td>\n",
       "      <td>John Carter</td>\n",
       "      <td>[John, Carter, is, a, war-weary,, former, mili...</td>\n",
       "    </tr>\n",
       "    <tr>\n",
       "      <th>...</th>\n",
       "      <td>...</td>\n",
       "      <td>...</td>\n",
       "      <td>...</td>\n",
       "    </tr>\n",
       "    <tr>\n",
       "      <th>4804</th>\n",
       "      <td>9367</td>\n",
       "      <td>El Mariachi</td>\n",
       "      <td>[El, Mariachi, just, wants, to, play, his, gui...</td>\n",
       "    </tr>\n",
       "    <tr>\n",
       "      <th>4805</th>\n",
       "      <td>72766</td>\n",
       "      <td>Newlyweds</td>\n",
       "      <td>NaN</td>\n",
       "    </tr>\n",
       "    <tr>\n",
       "      <th>4806</th>\n",
       "      <td>231617</td>\n",
       "      <td>Signed, Sealed, Delivered</td>\n",
       "      <td>[\"Signed,, Sealed,, Delivered\", introduces, a,...</td>\n",
       "    </tr>\n",
       "    <tr>\n",
       "      <th>4807</th>\n",
       "      <td>126186</td>\n",
       "      <td>Shanghai Calling</td>\n",
       "      <td>NaN</td>\n",
       "    </tr>\n",
       "    <tr>\n",
       "      <th>4808</th>\n",
       "      <td>25975</td>\n",
       "      <td>My Date with Drew</td>\n",
       "      <td>[Ever, since, the, second, grade, when, he, fi...</td>\n",
       "    </tr>\n",
       "  </tbody>\n",
       "</table>\n",
       "<p>4806 rows × 3 columns</p>\n",
       "</div>"
      ],
      "text/plain": [
       "      movie_id                                     title  \\\n",
       "0        19995                                    Avatar   \n",
       "1          285  Pirates of the Caribbean: At World's End   \n",
       "2       206647                                   Spectre   \n",
       "3        49026                     The Dark Knight Rises   \n",
       "4        49529                               John Carter   \n",
       "...        ...                                       ...   \n",
       "4804      9367                               El Mariachi   \n",
       "4805     72766                                 Newlyweds   \n",
       "4806    231617                 Signed, Sealed, Delivered   \n",
       "4807    126186                          Shanghai Calling   \n",
       "4808     25975                         My Date with Drew   \n",
       "\n",
       "                                                   tags  \n",
       "0     [In, the, 22nd, century,, a, paraplegic, Marin...  \n",
       "1     [Captain, Barbossa,, long, believed, to, be, d...  \n",
       "2     [A, cryptic, message, from, Bond’s, past, send...  \n",
       "3     [Following, the, death, of, District, Attorney...  \n",
       "4     [John, Carter, is, a, war-weary,, former, mili...  \n",
       "...                                                 ...  \n",
       "4804  [El, Mariachi, just, wants, to, play, his, gui...  \n",
       "4805                                                NaN  \n",
       "4806  [\"Signed,, Sealed,, Delivered\", introduces, a,...  \n",
       "4807                                                NaN  \n",
       "4808  [Ever, since, the, second, grade, when, he, fi...  \n",
       "\n",
       "[4806 rows x 3 columns]"
      ]
     },
     "execution_count": 81,
     "metadata": {},
     "output_type": "execute_result"
    }
   ],
   "source": [
    "new_df"
   ]
  },
  {
   "cell_type": "code",
   "execution_count": 84,
   "id": "3d8a3670-fd44-40a4-94de-90586c6626c2",
   "metadata": {},
   "outputs": [
    {
     "name": "stderr",
     "output_type": "stream",
     "text": [
      "C:\\Users\\lenovo\\AppData\\Local\\Temp\\ipykernel_6248\\3102651639.py:1: SettingWithCopyWarning: \n",
      "A value is trying to be set on a copy of a slice from a DataFrame.\n",
      "Try using .loc[row_indexer,col_indexer] = value instead\n",
      "\n",
      "See the caveats in the documentation: https://pandas.pydata.org/pandas-docs/stable/user_guide/indexing.html#returning-a-view-versus-a-copy\n",
      "  new_df['tags'] = new_df['tags'].apply(lambda x: \" \".join(x) if isinstance(x, list) else \"\" if x is None else x)\n"
     ]
    }
   ],
   "source": [
    "new_df['tags'] = new_df['tags'].apply(lambda x: \" \".join(x) if isinstance(x, list) else \"\" if x is None else x)"
   ]
  },
  {
   "cell_type": "code",
   "execution_count": 85,
   "id": "ce0b2b58-216f-4b8c-9883-28a85aff98d9",
   "metadata": {},
   "outputs": [
    {
     "data": {
      "text/plain": [
       "0       In the 22nd century, a paraplegic Marine is di...\n",
       "1       Captain Barbossa, long believed to be dead, ha...\n",
       "2       A cryptic message from Bond’s past sends him o...\n",
       "3       Following the death of District Attorney Harve...\n",
       "4       John Carter is a war-weary, former military ca...\n",
       "                              ...                        \n",
       "4804    El Mariachi just wants to play his guitar and ...\n",
       "4805                                                  NaN\n",
       "4806    \"Signed, Sealed, Delivered\" introduces a dedic...\n",
       "4807                                                  NaN\n",
       "4808    Ever since the second grade when he first saw ...\n",
       "Name: tags, Length: 4806, dtype: object"
      ]
     },
     "execution_count": 85,
     "metadata": {},
     "output_type": "execute_result"
    }
   ],
   "source": [
    "new_df['tags']"
   ]
  },
  {
   "cell_type": "code",
   "execution_count": 87,
   "id": "53b11b73-4cc0-4560-b1ad-3c5b8eb863e0",
   "metadata": {},
   "outputs": [
    {
     "name": "stderr",
     "output_type": "stream",
     "text": [
      "C:\\Users\\lenovo\\AppData\\Local\\Temp\\ipykernel_6248\\4217757784.py:1: SettingWithCopyWarning: \n",
      "A value is trying to be set on a copy of a slice from a DataFrame.\n",
      "Try using .loc[row_indexer,col_indexer] = value instead\n",
      "\n",
      "See the caveats in the documentation: https://pandas.pydata.org/pandas-docs/stable/user_guide/indexing.html#returning-a-view-versus-a-copy\n",
      "  new_df['tags'] = new_df['tags'].apply(lambda x: \" \".join([i.lower() for i in x]) if isinstance(x, list) else \"\" if pd.isna(x) else x.lower() if isinstance(x, str) else \"\")\n"
     ]
    }
   ],
   "source": [
    "new_df['tags'] = new_df['tags'].apply(lambda x: \" \".join([i.lower() for i in x]) if isinstance(x, list) else \"\" if pd.isna(x) else x.lower() if isinstance(x, str) else \"\")\n"
   ]
  },
  {
   "cell_type": "code",
   "execution_count": 88,
   "id": "27b22424-7dca-4115-a756-035cfb209042",
   "metadata": {},
   "outputs": [
    {
     "data": {
      "text/plain": [
       "0       in the 22nd century, a paraplegic marine is di...\n",
       "1       captain barbossa, long believed to be dead, ha...\n",
       "2       a cryptic message from bond’s past sends him o...\n",
       "3       following the death of district attorney harve...\n",
       "4       john carter is a war-weary, former military ca...\n",
       "                              ...                        \n",
       "4804    el mariachi just wants to play his guitar and ...\n",
       "4805                                                     \n",
       "4806    \"signed, sealed, delivered\" introduces a dedic...\n",
       "4807                                                     \n",
       "4808    ever since the second grade when he first saw ...\n",
       "Name: tags, Length: 4806, dtype: object"
      ]
     },
     "execution_count": 88,
     "metadata": {},
     "output_type": "execute_result"
    }
   ],
   "source": [
    "new_df['tags']"
   ]
  },
  {
   "cell_type": "code",
   "execution_count": 91,
   "id": "7212c412-f59a-4e80-bcaa-0ea855650e6c",
   "metadata": {},
   "outputs": [],
   "source": [
    "from sklearn.feature_extraction.text import CountVectorizer\n",
    "cv=CountVectorizer(max_features=5000,stop_words='english')\n",
    "vectors=cv.fit_transform(new_df['tags']).toarray()"
   ]
  },
  {
   "cell_type": "code",
   "execution_count": 92,
   "id": "830f5337-48db-4343-be78-4649da3adf02",
   "metadata": {},
   "outputs": [
    {
     "data": {
      "text/plain": [
       "array([0, 0, 0, ..., 0, 0, 0], dtype=int64)"
      ]
     },
     "execution_count": 92,
     "metadata": {},
     "output_type": "execute_result"
    }
   ],
   "source": [
    "vectors[0]"
   ]
  },
  {
   "cell_type": "code",
   "execution_count": 94,
   "id": "19b8b314-a855-457e-980b-40f4d8f4f5f4",
   "metadata": {},
   "outputs": [],
   "source": [
    "import nltk\n",
    "from nltk.stem.porter import PorterStemmer\n",
    "ps=PorterStemmer()"
   ]
  },
  {
   "cell_type": "code",
   "execution_count": 97,
   "id": "cbd42284-530c-4946-b197-fd4a672be11f",
   "metadata": {},
   "outputs": [],
   "source": [
    "def stem(text):\n",
    "    y=[]\n",
    "    for i in text.split():\n",
    "        y.append(ps.stem(i))\n",
    "    return \" \".join(y)"
   ]
  },
  {
   "cell_type": "code",
   "execution_count": 99,
   "id": "5b675acb-7138-40a1-8d22-04eafcc293c9",
   "metadata": {},
   "outputs": [
    {
     "name": "stderr",
     "output_type": "stream",
     "text": [
      "C:\\Users\\lenovo\\AppData\\Local\\Temp\\ipykernel_6248\\3514595201.py:1: SettingWithCopyWarning: \n",
      "A value is trying to be set on a copy of a slice from a DataFrame.\n",
      "Try using .loc[row_indexer,col_indexer] = value instead\n",
      "\n",
      "See the caveats in the documentation: https://pandas.pydata.org/pandas-docs/stable/user_guide/indexing.html#returning-a-view-versus-a-copy\n",
      "  new_df['tags']=new_df['tags'].apply(stem)\n"
     ]
    }
   ],
   "source": [
    "new_df['tags']=new_df['tags'].apply(stem)"
   ]
  },
  {
   "cell_type": "code",
   "execution_count": 100,
   "id": "7888b55f-18f6-46b6-b24a-40f8ac91e176",
   "metadata": {},
   "outputs": [],
   "source": [
    "from sklearn.metrics.pairwise import cosine_similarity"
   ]
  },
  {
   "cell_type": "code",
   "execution_count": 103,
   "id": "454e112b-f395-4186-9c60-8d226c3246db",
   "metadata": {},
   "outputs": [],
   "source": [
    "similarity=cosine_similarity(vectors)"
   ]
  },
  {
   "cell_type": "code",
   "execution_count": 104,
   "id": "56047a1e-bc6d-4c4e-a93c-804a523fe228",
   "metadata": {},
   "outputs": [
    {
     "data": {
      "text/plain": [
       "array([1.        , 0.        , 0.05163978, ..., 0.        , 0.        ,\n",
       "       0.        ])"
      ]
     },
     "execution_count": 104,
     "metadata": {},
     "output_type": "execute_result"
    }
   ],
   "source": [
    "similarity[0]"
   ]
  },
  {
   "cell_type": "code",
   "execution_count": 111,
   "id": "172ae83d-ff83-4eb4-9ef7-01a8b5877222",
   "metadata": {},
   "outputs": [
    {
     "name": "stdout",
     "output_type": "stream",
     "text": [
      "Apollo 18\n",
      "Beowulf\n",
      "Tears of the Sun\n",
      "The Adventures of Pluto Nash\n",
      "xXx\n"
     ]
    }
   ],
   "source": [
    "def recommend(movie):\n",
    "    movie_index = new_df[new_df['title'] == movie].index[0]\n",
    "    distances = similarity[movie_index]\n",
    "    movies_list = sorted(list(enumerate(distances)), reverse=True, key=lambda x: x[1])\n",
    "    for i in movies_list[1:6]:  \n",
    "        print(new_df.iloc[i[0]].title)\n",
    "\n",
    "\n",
    "recommend('Avatar')\n"
   ]
  },
  {
   "cell_type": "code",
   "execution_count": 112,
   "id": "7fe4a420-f49d-4a98-bcd4-73ca0cdb461b",
   "metadata": {},
   "outputs": [
    {
     "name": "stdout",
     "output_type": "stream",
     "text": [
      "Avengers: Age of Ultron\n",
      "Iron Man 2\n",
      "Iron Man 3\n",
      "The Devil's Tomb\n",
      "Cradle 2 the Grave\n"
     ]
    }
   ],
   "source": [
    "recommend('Iron Man')"
   ]
  },
  {
   "cell_type": "code",
   "execution_count": 114,
   "id": "f2972e14-e25a-4cda-989a-ee9c3d469384",
   "metadata": {},
   "outputs": [],
   "source": [
    "import pickle"
   ]
  },
  {
   "cell_type": "code",
   "execution_count": 119,
   "id": "ee4ccd5b-e2cc-4a30-bfce-f7a86ba26350",
   "metadata": {},
   "outputs": [],
   "source": [
    "pickle.dump(new_df,open('movie_list.pkl','wb'))"
   ]
  },
  {
   "cell_type": "code",
   "execution_count": 117,
   "id": "5cfdd736-0f53-4732-90f9-d0dfb441add3",
   "metadata": {},
   "outputs": [],
   "source": [
    "pickle.dump(new_df.to_dict(),open('movies_dict.pkl','wb'))"
   ]
  },
  {
   "cell_type": "code",
   "execution_count": 118,
   "id": "638cfbfb-4833-4af8-bb88-378c8d215520",
   "metadata": {},
   "outputs": [],
   "source": [
    "pickle.dump(similarity,open('similarity.pkl','wb'))"
   ]
  },
  {
   "cell_type": "code",
   "execution_count": null,
   "id": "e1246382-08bc-488d-8554-bce5be71db69",
   "metadata": {},
   "outputs": [],
   "source": []
  }
 ],
 "metadata": {
  "kernelspec": {
   "display_name": "Python 3 (ipykernel)",
   "language": "python",
   "name": "python3"
  },
  "language_info": {
   "codemirror_mode": {
    "name": "ipython",
    "version": 3
   },
   "file_extension": ".py",
   "mimetype": "text/x-python",
   "name": "python",
   "nbconvert_exporter": "python",
   "pygments_lexer": "ipython3",
   "version": "3.11.7"
  }
 },
 "nbformat": 4,
 "nbformat_minor": 5
}
